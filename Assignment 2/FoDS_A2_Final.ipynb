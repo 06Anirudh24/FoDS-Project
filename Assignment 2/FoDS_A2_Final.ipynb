{
  "nbformat": 4,
  "nbformat_minor": 0,
  "metadata": {
    "colab": {
      "name": "FoDS_A2_Final.ipynb",
      "provenance": [],
      "collapsed_sections": []
    },
    "kernelspec": {
      "name": "python3",
      "display_name": "Python 3"
    },
    "language_info": {
      "name": "python"
    }
  },
  "cells": [
    {
      "cell_type": "markdown",
      "metadata": {
        "id": "ox1uGe3L9B1r"
      },
      "source": [
        "# **Foundations of Data Science (CSF320) - Assignment 2**\n",
        "### **Authors:** Anirudh A (2018B4A70936H), Vishal Kumar NK (2019A4PS0693H), Shivani Thirunagari (2019A4PS0754H)\n",
        "# **Loading Dataset**"
      ]
    },
    {
      "cell_type": "code",
      "metadata": {
        "colab": {
          "base_uri": "https://localhost:8080/"
        },
        "id": "xxablVI58SyK",
        "outputId": "2a0ce86d-907c-4a1f-e3bf-8ea29780531b"
      },
      "source": [
        "from google.colab import drive\n",
        "drive.mount('/content/drive')"
      ],
      "execution_count": 1,
      "outputs": [
        {
          "output_type": "stream",
          "name": "stdout",
          "text": [
            "Drive already mounted at /content/drive; to attempt to forcibly remount, call drive.mount(\"/content/drive\", force_remount=True).\n"
          ]
        }
      ]
    },
    {
      "cell_type": "code",
      "metadata": {
        "colab": {
          "base_uri": "https://localhost:8080/",
          "height": 226
        },
        "id": "jPuFVjfu8Vff",
        "outputId": "6d42589c-1f72-4941-c9eb-63c5ee7936e1"
      },
      "source": [
        "import numpy as np\n",
        "import pandas as pd\n",
        "from random import randrange\n",
        "import math\n",
        "path = \"/content/drive/MyDrive/FoDS-Assignment-2.csv\"\n",
        "df = pd.read_csv(path)\n",
        "df.head()"
      ],
      "execution_count": 2,
      "outputs": [
        {
          "output_type": "execute_result",
          "data": {
            "text/html": [
              "<div>\n",
              "<style scoped>\n",
              "    .dataframe tbody tr th:only-of-type {\n",
              "        vertical-align: middle;\n",
              "    }\n",
              "\n",
              "    .dataframe tbody tr th {\n",
              "        vertical-align: top;\n",
              "    }\n",
              "\n",
              "    .dataframe thead th {\n",
              "        text-align: right;\n",
              "    }\n",
              "</style>\n",
              "<table border=\"1\" class=\"dataframe\">\n",
              "  <thead>\n",
              "    <tr style=\"text-align: right;\">\n",
              "      <th></th>\n",
              "      <th>bedrooms</th>\n",
              "      <th>bathrooms</th>\n",
              "      <th>sqft_living</th>\n",
              "      <th>sqft_lot</th>\n",
              "      <th>floors</th>\n",
              "      <th>waterfront</th>\n",
              "      <th>view</th>\n",
              "      <th>condition</th>\n",
              "      <th>grade</th>\n",
              "      <th>sqft_above</th>\n",
              "      <th>sqft_basement</th>\n",
              "      <th>sqft_living15</th>\n",
              "      <th>sqft_lot15</th>\n",
              "      <th>price</th>\n",
              "    </tr>\n",
              "  </thead>\n",
              "  <tbody>\n",
              "    <tr>\n",
              "      <th>0</th>\n",
              "      <td>4</td>\n",
              "      <td>1.75</td>\n",
              "      <td>2120.0</td>\n",
              "      <td>7420</td>\n",
              "      <td>1.0</td>\n",
              "      <td>0</td>\n",
              "      <td>0</td>\n",
              "      <td>4</td>\n",
              "      <td>7</td>\n",
              "      <td>1060.0</td>\n",
              "      <td>1060</td>\n",
              "      <td>1540</td>\n",
              "      <td>7420</td>\n",
              "      <td>453000.0</td>\n",
              "    </tr>\n",
              "    <tr>\n",
              "      <th>1</th>\n",
              "      <td>4</td>\n",
              "      <td>2.50</td>\n",
              "      <td>2180.0</td>\n",
              "      <td>9861</td>\n",
              "      <td>2.0</td>\n",
              "      <td>0</td>\n",
              "      <td>2</td>\n",
              "      <td>3</td>\n",
              "      <td>8</td>\n",
              "      <td>2180.0</td>\n",
              "      <td>0</td>\n",
              "      <td>2390</td>\n",
              "      <td>9761</td>\n",
              "      <td>480000.0</td>\n",
              "    </tr>\n",
              "    <tr>\n",
              "      <th>2</th>\n",
              "      <td>3</td>\n",
              "      <td>1.50</td>\n",
              "      <td>1540.0</td>\n",
              "      <td>9800</td>\n",
              "      <td>1.0</td>\n",
              "      <td>0</td>\n",
              "      <td>0</td>\n",
              "      <td>3</td>\n",
              "      <td>7</td>\n",
              "      <td>1010.0</td>\n",
              "      <td>530</td>\n",
              "      <td>1600</td>\n",
              "      <td>8250</td>\n",
              "      <td>180500.0</td>\n",
              "    </tr>\n",
              "    <tr>\n",
              "      <th>3</th>\n",
              "      <td>3</td>\n",
              "      <td>3.50</td>\n",
              "      <td>2380.0</td>\n",
              "      <td>6250</td>\n",
              "      <td>2.0</td>\n",
              "      <td>0</td>\n",
              "      <td>3</td>\n",
              "      <td>3</td>\n",
              "      <td>8</td>\n",
              "      <td>1670.0</td>\n",
              "      <td>710</td>\n",
              "      <td>2540</td>\n",
              "      <td>4010</td>\n",
              "      <td>495000.0</td>\n",
              "    </tr>\n",
              "    <tr>\n",
              "      <th>4</th>\n",
              "      <td>4</td>\n",
              "      <td>2.50</td>\n",
              "      <td>2230.0</td>\n",
              "      <td>8500</td>\n",
              "      <td>2.0</td>\n",
              "      <td>0</td>\n",
              "      <td>0</td>\n",
              "      <td>3</td>\n",
              "      <td>8</td>\n",
              "      <td>2230.0</td>\n",
              "      <td>0</td>\n",
              "      <td>2270</td>\n",
              "      <td>8770</td>\n",
              "      <td>325000.0</td>\n",
              "    </tr>\n",
              "  </tbody>\n",
              "</table>\n",
              "</div>"
            ],
            "text/plain": [
              "   bedrooms  bathrooms  sqft_living  ...  sqft_living15  sqft_lot15     price\n",
              "0         4       1.75       2120.0  ...           1540        7420  453000.0\n",
              "1         4       2.50       2180.0  ...           2390        9761  480000.0\n",
              "2         3       1.50       1540.0  ...           1600        8250  180500.0\n",
              "3         3       3.50       2380.0  ...           2540        4010  495000.0\n",
              "4         4       2.50       2230.0  ...           2270        8770  325000.0\n",
              "\n",
              "[5 rows x 14 columns]"
            ]
          },
          "metadata": {},
          "execution_count": 2
        }
      ]
    },
    {
      "cell_type": "markdown",
      "metadata": {
        "id": "8rfo38om9M31"
      },
      "source": [
        "# **Data Pre-Processing**"
      ]
    },
    {
      "cell_type": "markdown",
      "metadata": {
        "id": "fx-cJP3g9sJ3"
      },
      "source": [
        "### Outlier Detection, Elemination "
      ]
    },
    {
      "cell_type": "code",
      "metadata": {
        "colab": {
          "base_uri": "https://localhost:8080/"
        },
        "id": "iFyg7qU7AaW-",
        "outputId": "a73ac4b1-5edc-4932-f82c-caa38f556356"
      },
      "source": [
        "df[\"price\"]"
      ],
      "execution_count": 3,
      "outputs": [
        {
          "output_type": "execute_result",
          "data": {
            "text/plain": [
              "0       453000.0\n",
              "1       480000.0\n",
              "2       180500.0\n",
              "3       495000.0\n",
              "4       325000.0\n",
              "          ...   \n",
              "1183    333000.0\n",
              "1184    450000.0\n",
              "1185    776000.0\n",
              "1186    400000.0\n",
              "1187    369500.0\n",
              "Name: price, Length: 1188, dtype: float64"
            ]
          },
          "metadata": {},
          "execution_count": 3
        }
      ]
    },
    {
      "cell_type": "code",
      "metadata": {
        "colab": {
          "base_uri": "https://localhost:8080/",
          "height": 443
        },
        "id": "DJKqWh689dlx",
        "outputId": "b2052d6a-7b18-43a6-8a46-2a265d3c78d8"
      },
      "source": [
        "df = df[abs((df[\"price\"]-df[\"price\"].mean()) < 3* df[\"price\"].std())]\n",
        "df"
      ],
      "execution_count": 4,
      "outputs": [
        {
          "output_type": "execute_result",
          "data": {
            "text/html": [
              "<div>\n",
              "<style scoped>\n",
              "    .dataframe tbody tr th:only-of-type {\n",
              "        vertical-align: middle;\n",
              "    }\n",
              "\n",
              "    .dataframe tbody tr th {\n",
              "        vertical-align: top;\n",
              "    }\n",
              "\n",
              "    .dataframe thead th {\n",
              "        text-align: right;\n",
              "    }\n",
              "</style>\n",
              "<table border=\"1\" class=\"dataframe\">\n",
              "  <thead>\n",
              "    <tr style=\"text-align: right;\">\n",
              "      <th></th>\n",
              "      <th>bedrooms</th>\n",
              "      <th>bathrooms</th>\n",
              "      <th>sqft_living</th>\n",
              "      <th>sqft_lot</th>\n",
              "      <th>floors</th>\n",
              "      <th>waterfront</th>\n",
              "      <th>view</th>\n",
              "      <th>condition</th>\n",
              "      <th>grade</th>\n",
              "      <th>sqft_above</th>\n",
              "      <th>sqft_basement</th>\n",
              "      <th>sqft_living15</th>\n",
              "      <th>sqft_lot15</th>\n",
              "      <th>price</th>\n",
              "    </tr>\n",
              "  </thead>\n",
              "  <tbody>\n",
              "    <tr>\n",
              "      <th>0</th>\n",
              "      <td>4</td>\n",
              "      <td>1.75</td>\n",
              "      <td>2120.0</td>\n",
              "      <td>7420</td>\n",
              "      <td>1.0</td>\n",
              "      <td>0</td>\n",
              "      <td>0</td>\n",
              "      <td>4</td>\n",
              "      <td>7</td>\n",
              "      <td>1060.0</td>\n",
              "      <td>1060</td>\n",
              "      <td>1540</td>\n",
              "      <td>7420</td>\n",
              "      <td>453000.0</td>\n",
              "    </tr>\n",
              "    <tr>\n",
              "      <th>1</th>\n",
              "      <td>4</td>\n",
              "      <td>2.50</td>\n",
              "      <td>2180.0</td>\n",
              "      <td>9861</td>\n",
              "      <td>2.0</td>\n",
              "      <td>0</td>\n",
              "      <td>2</td>\n",
              "      <td>3</td>\n",
              "      <td>8</td>\n",
              "      <td>2180.0</td>\n",
              "      <td>0</td>\n",
              "      <td>2390</td>\n",
              "      <td>9761</td>\n",
              "      <td>480000.0</td>\n",
              "    </tr>\n",
              "    <tr>\n",
              "      <th>2</th>\n",
              "      <td>3</td>\n",
              "      <td>1.50</td>\n",
              "      <td>1540.0</td>\n",
              "      <td>9800</td>\n",
              "      <td>1.0</td>\n",
              "      <td>0</td>\n",
              "      <td>0</td>\n",
              "      <td>3</td>\n",
              "      <td>7</td>\n",
              "      <td>1010.0</td>\n",
              "      <td>530</td>\n",
              "      <td>1600</td>\n",
              "      <td>8250</td>\n",
              "      <td>180500.0</td>\n",
              "    </tr>\n",
              "    <tr>\n",
              "      <th>3</th>\n",
              "      <td>3</td>\n",
              "      <td>3.50</td>\n",
              "      <td>2380.0</td>\n",
              "      <td>6250</td>\n",
              "      <td>2.0</td>\n",
              "      <td>0</td>\n",
              "      <td>3</td>\n",
              "      <td>3</td>\n",
              "      <td>8</td>\n",
              "      <td>1670.0</td>\n",
              "      <td>710</td>\n",
              "      <td>2540</td>\n",
              "      <td>4010</td>\n",
              "      <td>495000.0</td>\n",
              "    </tr>\n",
              "    <tr>\n",
              "      <th>4</th>\n",
              "      <td>4</td>\n",
              "      <td>2.50</td>\n",
              "      <td>2230.0</td>\n",
              "      <td>8500</td>\n",
              "      <td>2.0</td>\n",
              "      <td>0</td>\n",
              "      <td>0</td>\n",
              "      <td>3</td>\n",
              "      <td>8</td>\n",
              "      <td>2230.0</td>\n",
              "      <td>0</td>\n",
              "      <td>2270</td>\n",
              "      <td>8770</td>\n",
              "      <td>325000.0</td>\n",
              "    </tr>\n",
              "    <tr>\n",
              "      <th>...</th>\n",
              "      <td>...</td>\n",
              "      <td>...</td>\n",
              "      <td>...</td>\n",
              "      <td>...</td>\n",
              "      <td>...</td>\n",
              "      <td>...</td>\n",
              "      <td>...</td>\n",
              "      <td>...</td>\n",
              "      <td>...</td>\n",
              "      <td>...</td>\n",
              "      <td>...</td>\n",
              "      <td>...</td>\n",
              "      <td>...</td>\n",
              "      <td>...</td>\n",
              "    </tr>\n",
              "    <tr>\n",
              "      <th>1183</th>\n",
              "      <td>4</td>\n",
              "      <td>2.50</td>\n",
              "      <td>2623.0</td>\n",
              "      <td>7184</td>\n",
              "      <td>2.0</td>\n",
              "      <td>0</td>\n",
              "      <td>0</td>\n",
              "      <td>3</td>\n",
              "      <td>8</td>\n",
              "      <td>2623.0</td>\n",
              "      <td>0</td>\n",
              "      <td>2010</td>\n",
              "      <td>4939</td>\n",
              "      <td>333000.0</td>\n",
              "    </tr>\n",
              "    <tr>\n",
              "      <th>1184</th>\n",
              "      <td>2</td>\n",
              "      <td>2.00</td>\n",
              "      <td>1730.0</td>\n",
              "      <td>4248</td>\n",
              "      <td>2.0</td>\n",
              "      <td>0</td>\n",
              "      <td>0</td>\n",
              "      <td>3</td>\n",
              "      <td>7</td>\n",
              "      <td>1730.0</td>\n",
              "      <td>0</td>\n",
              "      <td>1380</td>\n",
              "      <td>4000</td>\n",
              "      <td>450000.0</td>\n",
              "    </tr>\n",
              "    <tr>\n",
              "      <th>1185</th>\n",
              "      <td>4</td>\n",
              "      <td>2.50</td>\n",
              "      <td>3040.0</td>\n",
              "      <td>6425</td>\n",
              "      <td>2.0</td>\n",
              "      <td>0</td>\n",
              "      <td>0</td>\n",
              "      <td>3</td>\n",
              "      <td>8</td>\n",
              "      <td>3040.0</td>\n",
              "      <td>0</td>\n",
              "      <td>3040</td>\n",
              "      <td>7800</td>\n",
              "      <td>776000.0</td>\n",
              "    </tr>\n",
              "    <tr>\n",
              "      <th>1186</th>\n",
              "      <td>4</td>\n",
              "      <td>1.50</td>\n",
              "      <td>2150.0</td>\n",
              "      <td>11026</td>\n",
              "      <td>1.0</td>\n",
              "      <td>0</td>\n",
              "      <td>0</td>\n",
              "      <td>4</td>\n",
              "      <td>7</td>\n",
              "      <td>2150.0</td>\n",
              "      <td>0</td>\n",
              "      <td>1760</td>\n",
              "      <td>10283</td>\n",
              "      <td>400000.0</td>\n",
              "    </tr>\n",
              "    <tr>\n",
              "      <th>1187</th>\n",
              "      <td>3</td>\n",
              "      <td>1.00</td>\n",
              "      <td>1200.0</td>\n",
              "      <td>9194</td>\n",
              "      <td>1.0</td>\n",
              "      <td>0</td>\n",
              "      <td>0</td>\n",
              "      <td>4</td>\n",
              "      <td>7</td>\n",
              "      <td>1200.0</td>\n",
              "      <td>0</td>\n",
              "      <td>1330</td>\n",
              "      <td>8650</td>\n",
              "      <td>369500.0</td>\n",
              "    </tr>\n",
              "  </tbody>\n",
              "</table>\n",
              "<p>1166 rows × 14 columns</p>\n",
              "</div>"
            ],
            "text/plain": [
              "      bedrooms  bathrooms  sqft_living  ...  sqft_living15  sqft_lot15     price\n",
              "0            4       1.75       2120.0  ...           1540        7420  453000.0\n",
              "1            4       2.50       2180.0  ...           2390        9761  480000.0\n",
              "2            3       1.50       1540.0  ...           1600        8250  180500.0\n",
              "3            3       3.50       2380.0  ...           2540        4010  495000.0\n",
              "4            4       2.50       2230.0  ...           2270        8770  325000.0\n",
              "...        ...        ...          ...  ...            ...         ...       ...\n",
              "1183         4       2.50       2623.0  ...           2010        4939  333000.0\n",
              "1184         2       2.00       1730.0  ...           1380        4000  450000.0\n",
              "1185         4       2.50       3040.0  ...           3040        7800  776000.0\n",
              "1186         4       1.50       2150.0  ...           1760       10283  400000.0\n",
              "1187         3       1.00       1200.0  ...           1330        8650  369500.0\n",
              "\n",
              "[1166 rows x 14 columns]"
            ]
          },
          "metadata": {},
          "execution_count": 4
        }
      ]
    },
    {
      "cell_type": "markdown",
      "metadata": {
        "id": "vn8w_LL7-hcC"
      },
      "source": [
        "### Min-Max Normalization"
      ]
    },
    {
      "cell_type": "code",
      "metadata": {
        "colab": {
          "base_uri": "https://localhost:8080/",
          "height": 226
        },
        "id": "YFfItHZ4-dtU",
        "outputId": "b318f4d4-7b27-4aa9-90a6-b573fcc5077a"
      },
      "source": [
        "# It rescales the data to a range of [0,1]. \n",
        "# Subtract min value, divide by range.\n",
        "for i in df.columns:\n",
        "    df[i] = (df[i] - df[i].min()) / (df[i].max() - df[i].min())   \n",
        "df.head()"
      ],
      "execution_count": 5,
      "outputs": [
        {
          "output_type": "execute_result",
          "data": {
            "text/html": [
              "<div>\n",
              "<style scoped>\n",
              "    .dataframe tbody tr th:only-of-type {\n",
              "        vertical-align: middle;\n",
              "    }\n",
              "\n",
              "    .dataframe tbody tr th {\n",
              "        vertical-align: top;\n",
              "    }\n",
              "\n",
              "    .dataframe thead th {\n",
              "        text-align: right;\n",
              "    }\n",
              "</style>\n",
              "<table border=\"1\" class=\"dataframe\">\n",
              "  <thead>\n",
              "    <tr style=\"text-align: right;\">\n",
              "      <th></th>\n",
              "      <th>bedrooms</th>\n",
              "      <th>bathrooms</th>\n",
              "      <th>sqft_living</th>\n",
              "      <th>sqft_lot</th>\n",
              "      <th>floors</th>\n",
              "      <th>waterfront</th>\n",
              "      <th>view</th>\n",
              "      <th>condition</th>\n",
              "      <th>grade</th>\n",
              "      <th>sqft_above</th>\n",
              "      <th>sqft_basement</th>\n",
              "      <th>sqft_living15</th>\n",
              "      <th>sqft_lot15</th>\n",
              "      <th>price</th>\n",
              "    </tr>\n",
              "  </thead>\n",
              "  <tbody>\n",
              "    <tr>\n",
              "      <th>0</th>\n",
              "      <td>0.428571</td>\n",
              "      <td>0.227273</td>\n",
              "      <td>0.238965</td>\n",
              "      <td>0.004074</td>\n",
              "      <td>0.0</td>\n",
              "      <td>0.0</td>\n",
              "      <td>0.00</td>\n",
              "      <td>0.666667</td>\n",
              "      <td>0.285714</td>\n",
              "      <td>0.108511</td>\n",
              "      <td>0.482696</td>\n",
              "      <td>0.209596</td>\n",
              "      <td>0.015255</td>\n",
              "      <td>0.215723</td>\n",
              "    </tr>\n",
              "    <tr>\n",
              "      <th>1</th>\n",
              "      <td>0.428571</td>\n",
              "      <td>0.363636</td>\n",
              "      <td>0.248097</td>\n",
              "      <td>0.005552</td>\n",
              "      <td>0.5</td>\n",
              "      <td>0.0</td>\n",
              "      <td>0.50</td>\n",
              "      <td>0.333333</td>\n",
              "      <td>0.428571</td>\n",
              "      <td>0.346809</td>\n",
              "      <td>0.000000</td>\n",
              "      <td>0.424242</td>\n",
              "      <td>0.020768</td>\n",
              "      <td>0.232704</td>\n",
              "    </tr>\n",
              "    <tr>\n",
              "      <th>2</th>\n",
              "      <td>0.285714</td>\n",
              "      <td>0.181818</td>\n",
              "      <td>0.150685</td>\n",
              "      <td>0.005515</td>\n",
              "      <td>0.0</td>\n",
              "      <td>0.0</td>\n",
              "      <td>0.00</td>\n",
              "      <td>0.333333</td>\n",
              "      <td>0.285714</td>\n",
              "      <td>0.097872</td>\n",
              "      <td>0.241348</td>\n",
              "      <td>0.224747</td>\n",
              "      <td>0.017210</td>\n",
              "      <td>0.044340</td>\n",
              "    </tr>\n",
              "    <tr>\n",
              "      <th>3</th>\n",
              "      <td>0.285714</td>\n",
              "      <td>0.545455</td>\n",
              "      <td>0.278539</td>\n",
              "      <td>0.003365</td>\n",
              "      <td>0.5</td>\n",
              "      <td>0.0</td>\n",
              "      <td>0.75</td>\n",
              "      <td>0.333333</td>\n",
              "      <td>0.428571</td>\n",
              "      <td>0.238298</td>\n",
              "      <td>0.323315</td>\n",
              "      <td>0.462121</td>\n",
              "      <td>0.007225</td>\n",
              "      <td>0.242138</td>\n",
              "    </tr>\n",
              "    <tr>\n",
              "      <th>4</th>\n",
              "      <td>0.428571</td>\n",
              "      <td>0.363636</td>\n",
              "      <td>0.255708</td>\n",
              "      <td>0.004728</td>\n",
              "      <td>0.5</td>\n",
              "      <td>0.0</td>\n",
              "      <td>0.00</td>\n",
              "      <td>0.333333</td>\n",
              "      <td>0.428571</td>\n",
              "      <td>0.357447</td>\n",
              "      <td>0.000000</td>\n",
              "      <td>0.393939</td>\n",
              "      <td>0.018434</td>\n",
              "      <td>0.135220</td>\n",
              "    </tr>\n",
              "  </tbody>\n",
              "</table>\n",
              "</div>"
            ],
            "text/plain": [
              "   bedrooms  bathrooms  sqft_living  ...  sqft_living15  sqft_lot15     price\n",
              "0  0.428571   0.227273     0.238965  ...       0.209596    0.015255  0.215723\n",
              "1  0.428571   0.363636     0.248097  ...       0.424242    0.020768  0.232704\n",
              "2  0.285714   0.181818     0.150685  ...       0.224747    0.017210  0.044340\n",
              "3  0.285714   0.545455     0.278539  ...       0.462121    0.007225  0.242138\n",
              "4  0.428571   0.363636     0.255708  ...       0.393939    0.018434  0.135220\n",
              "\n",
              "[5 rows x 14 columns]"
            ]
          },
          "metadata": {},
          "execution_count": 5
        }
      ]
    },
    {
      "cell_type": "markdown",
      "metadata": {
        "id": "FTmESRBpBSJM"
      },
      "source": [
        "### Check Missing Values"
      ]
    },
    {
      "cell_type": "code",
      "metadata": {
        "colab": {
          "base_uri": "https://localhost:8080/",
          "height": 443
        },
        "id": "Of3tjCP6BQqj",
        "outputId": "2c8aa5d2-9868-4107-d203-760df5f8a51a"
      },
      "source": [
        "df.dropna(inplace=True)\n",
        "df"
      ],
      "execution_count": 6,
      "outputs": [
        {
          "output_type": "execute_result",
          "data": {
            "text/html": [
              "<div>\n",
              "<style scoped>\n",
              "    .dataframe tbody tr th:only-of-type {\n",
              "        vertical-align: middle;\n",
              "    }\n",
              "\n",
              "    .dataframe tbody tr th {\n",
              "        vertical-align: top;\n",
              "    }\n",
              "\n",
              "    .dataframe thead th {\n",
              "        text-align: right;\n",
              "    }\n",
              "</style>\n",
              "<table border=\"1\" class=\"dataframe\">\n",
              "  <thead>\n",
              "    <tr style=\"text-align: right;\">\n",
              "      <th></th>\n",
              "      <th>bedrooms</th>\n",
              "      <th>bathrooms</th>\n",
              "      <th>sqft_living</th>\n",
              "      <th>sqft_lot</th>\n",
              "      <th>floors</th>\n",
              "      <th>waterfront</th>\n",
              "      <th>view</th>\n",
              "      <th>condition</th>\n",
              "      <th>grade</th>\n",
              "      <th>sqft_above</th>\n",
              "      <th>sqft_basement</th>\n",
              "      <th>sqft_living15</th>\n",
              "      <th>sqft_lot15</th>\n",
              "      <th>price</th>\n",
              "    </tr>\n",
              "  </thead>\n",
              "  <tbody>\n",
              "    <tr>\n",
              "      <th>0</th>\n",
              "      <td>0.428571</td>\n",
              "      <td>0.227273</td>\n",
              "      <td>0.238965</td>\n",
              "      <td>0.004074</td>\n",
              "      <td>0.0</td>\n",
              "      <td>0.0</td>\n",
              "      <td>0.00</td>\n",
              "      <td>0.666667</td>\n",
              "      <td>0.285714</td>\n",
              "      <td>0.108511</td>\n",
              "      <td>0.482696</td>\n",
              "      <td>0.209596</td>\n",
              "      <td>0.015255</td>\n",
              "      <td>0.215723</td>\n",
              "    </tr>\n",
              "    <tr>\n",
              "      <th>1</th>\n",
              "      <td>0.428571</td>\n",
              "      <td>0.363636</td>\n",
              "      <td>0.248097</td>\n",
              "      <td>0.005552</td>\n",
              "      <td>0.5</td>\n",
              "      <td>0.0</td>\n",
              "      <td>0.50</td>\n",
              "      <td>0.333333</td>\n",
              "      <td>0.428571</td>\n",
              "      <td>0.346809</td>\n",
              "      <td>0.000000</td>\n",
              "      <td>0.424242</td>\n",
              "      <td>0.020768</td>\n",
              "      <td>0.232704</td>\n",
              "    </tr>\n",
              "    <tr>\n",
              "      <th>2</th>\n",
              "      <td>0.285714</td>\n",
              "      <td>0.181818</td>\n",
              "      <td>0.150685</td>\n",
              "      <td>0.005515</td>\n",
              "      <td>0.0</td>\n",
              "      <td>0.0</td>\n",
              "      <td>0.00</td>\n",
              "      <td>0.333333</td>\n",
              "      <td>0.285714</td>\n",
              "      <td>0.097872</td>\n",
              "      <td>0.241348</td>\n",
              "      <td>0.224747</td>\n",
              "      <td>0.017210</td>\n",
              "      <td>0.044340</td>\n",
              "    </tr>\n",
              "    <tr>\n",
              "      <th>3</th>\n",
              "      <td>0.285714</td>\n",
              "      <td>0.545455</td>\n",
              "      <td>0.278539</td>\n",
              "      <td>0.003365</td>\n",
              "      <td>0.5</td>\n",
              "      <td>0.0</td>\n",
              "      <td>0.75</td>\n",
              "      <td>0.333333</td>\n",
              "      <td>0.428571</td>\n",
              "      <td>0.238298</td>\n",
              "      <td>0.323315</td>\n",
              "      <td>0.462121</td>\n",
              "      <td>0.007225</td>\n",
              "      <td>0.242138</td>\n",
              "    </tr>\n",
              "    <tr>\n",
              "      <th>4</th>\n",
              "      <td>0.428571</td>\n",
              "      <td>0.363636</td>\n",
              "      <td>0.255708</td>\n",
              "      <td>0.004728</td>\n",
              "      <td>0.5</td>\n",
              "      <td>0.0</td>\n",
              "      <td>0.00</td>\n",
              "      <td>0.333333</td>\n",
              "      <td>0.428571</td>\n",
              "      <td>0.357447</td>\n",
              "      <td>0.000000</td>\n",
              "      <td>0.393939</td>\n",
              "      <td>0.018434</td>\n",
              "      <td>0.135220</td>\n",
              "    </tr>\n",
              "    <tr>\n",
              "      <th>...</th>\n",
              "      <td>...</td>\n",
              "      <td>...</td>\n",
              "      <td>...</td>\n",
              "      <td>...</td>\n",
              "      <td>...</td>\n",
              "      <td>...</td>\n",
              "      <td>...</td>\n",
              "      <td>...</td>\n",
              "      <td>...</td>\n",
              "      <td>...</td>\n",
              "      <td>...</td>\n",
              "      <td>...</td>\n",
              "      <td>...</td>\n",
              "      <td>...</td>\n",
              "    </tr>\n",
              "    <tr>\n",
              "      <th>1183</th>\n",
              "      <td>0.428571</td>\n",
              "      <td>0.363636</td>\n",
              "      <td>0.315525</td>\n",
              "      <td>0.003931</td>\n",
              "      <td>0.5</td>\n",
              "      <td>0.0</td>\n",
              "      <td>0.00</td>\n",
              "      <td>0.333333</td>\n",
              "      <td>0.428571</td>\n",
              "      <td>0.441064</td>\n",
              "      <td>0.000000</td>\n",
              "      <td>0.328283</td>\n",
              "      <td>0.009413</td>\n",
              "      <td>0.140252</td>\n",
              "    </tr>\n",
              "    <tr>\n",
              "      <th>1184</th>\n",
              "      <td>0.142857</td>\n",
              "      <td>0.272727</td>\n",
              "      <td>0.179604</td>\n",
              "      <td>0.002152</td>\n",
              "      <td>0.5</td>\n",
              "      <td>0.0</td>\n",
              "      <td>0.00</td>\n",
              "      <td>0.333333</td>\n",
              "      <td>0.285714</td>\n",
              "      <td>0.251064</td>\n",
              "      <td>0.000000</td>\n",
              "      <td>0.169192</td>\n",
              "      <td>0.007201</td>\n",
              "      <td>0.213836</td>\n",
              "    </tr>\n",
              "    <tr>\n",
              "      <th>1185</th>\n",
              "      <td>0.428571</td>\n",
              "      <td>0.363636</td>\n",
              "      <td>0.378995</td>\n",
              "      <td>0.003471</td>\n",
              "      <td>0.5</td>\n",
              "      <td>0.0</td>\n",
              "      <td>0.00</td>\n",
              "      <td>0.333333</td>\n",
              "      <td>0.428571</td>\n",
              "      <td>0.529787</td>\n",
              "      <td>0.000000</td>\n",
              "      <td>0.588384</td>\n",
              "      <td>0.016150</td>\n",
              "      <td>0.418868</td>\n",
              "    </tr>\n",
              "    <tr>\n",
              "      <th>1186</th>\n",
              "      <td>0.428571</td>\n",
              "      <td>0.181818</td>\n",
              "      <td>0.243531</td>\n",
              "      <td>0.006258</td>\n",
              "      <td>0.0</td>\n",
              "      <td>0.0</td>\n",
              "      <td>0.00</td>\n",
              "      <td>0.666667</td>\n",
              "      <td>0.285714</td>\n",
              "      <td>0.340426</td>\n",
              "      <td>0.000000</td>\n",
              "      <td>0.265152</td>\n",
              "      <td>0.021998</td>\n",
              "      <td>0.182390</td>\n",
              "    </tr>\n",
              "    <tr>\n",
              "      <th>1187</th>\n",
              "      <td>0.285714</td>\n",
              "      <td>0.090909</td>\n",
              "      <td>0.098935</td>\n",
              "      <td>0.005148</td>\n",
              "      <td>0.0</td>\n",
              "      <td>0.0</td>\n",
              "      <td>0.00</td>\n",
              "      <td>0.666667</td>\n",
              "      <td>0.285714</td>\n",
              "      <td>0.138298</td>\n",
              "      <td>0.000000</td>\n",
              "      <td>0.156566</td>\n",
              "      <td>0.018152</td>\n",
              "      <td>0.163208</td>\n",
              "    </tr>\n",
              "  </tbody>\n",
              "</table>\n",
              "<p>1126 rows × 14 columns</p>\n",
              "</div>"
            ],
            "text/plain": [
              "      bedrooms  bathrooms  sqft_living  ...  sqft_living15  sqft_lot15     price\n",
              "0     0.428571   0.227273     0.238965  ...       0.209596    0.015255  0.215723\n",
              "1     0.428571   0.363636     0.248097  ...       0.424242    0.020768  0.232704\n",
              "2     0.285714   0.181818     0.150685  ...       0.224747    0.017210  0.044340\n",
              "3     0.285714   0.545455     0.278539  ...       0.462121    0.007225  0.242138\n",
              "4     0.428571   0.363636     0.255708  ...       0.393939    0.018434  0.135220\n",
              "...        ...        ...          ...  ...            ...         ...       ...\n",
              "1183  0.428571   0.363636     0.315525  ...       0.328283    0.009413  0.140252\n",
              "1184  0.142857   0.272727     0.179604  ...       0.169192    0.007201  0.213836\n",
              "1185  0.428571   0.363636     0.378995  ...       0.588384    0.016150  0.418868\n",
              "1186  0.428571   0.181818     0.243531  ...       0.265152    0.021998  0.182390\n",
              "1187  0.285714   0.090909     0.098935  ...       0.156566    0.018152  0.163208\n",
              "\n",
              "[1126 rows x 14 columns]"
            ]
          },
          "metadata": {},
          "execution_count": 6
        }
      ]
    },
    {
      "cell_type": "markdown",
      "metadata": {
        "id": "BUl-FOhP-qUc"
      },
      "source": [
        "### Data Shuffling"
      ]
    },
    {
      "cell_type": "code",
      "metadata": {
        "colab": {
          "base_uri": "https://localhost:8080/",
          "height": 226
        },
        "id": "Fb8meLmB9NgA",
        "outputId": "48b169c2-251a-478d-a2f0-74e8d66ba13f"
      },
      "source": [
        "df = df.sample(frac = 1) #frac denotes the fraction of samples to be returned. \n",
        "df.head()"
      ],
      "execution_count": 7,
      "outputs": [
        {
          "output_type": "execute_result",
          "data": {
            "text/html": [
              "<div>\n",
              "<style scoped>\n",
              "    .dataframe tbody tr th:only-of-type {\n",
              "        vertical-align: middle;\n",
              "    }\n",
              "\n",
              "    .dataframe tbody tr th {\n",
              "        vertical-align: top;\n",
              "    }\n",
              "\n",
              "    .dataframe thead th {\n",
              "        text-align: right;\n",
              "    }\n",
              "</style>\n",
              "<table border=\"1\" class=\"dataframe\">\n",
              "  <thead>\n",
              "    <tr style=\"text-align: right;\">\n",
              "      <th></th>\n",
              "      <th>bedrooms</th>\n",
              "      <th>bathrooms</th>\n",
              "      <th>sqft_living</th>\n",
              "      <th>sqft_lot</th>\n",
              "      <th>floors</th>\n",
              "      <th>waterfront</th>\n",
              "      <th>view</th>\n",
              "      <th>condition</th>\n",
              "      <th>grade</th>\n",
              "      <th>sqft_above</th>\n",
              "      <th>sqft_basement</th>\n",
              "      <th>sqft_living15</th>\n",
              "      <th>sqft_lot15</th>\n",
              "      <th>price</th>\n",
              "    </tr>\n",
              "  </thead>\n",
              "  <tbody>\n",
              "    <tr>\n",
              "      <th>995</th>\n",
              "      <td>0.428571</td>\n",
              "      <td>0.545455</td>\n",
              "      <td>0.550989</td>\n",
              "      <td>0.002197</td>\n",
              "      <td>0.5</td>\n",
              "      <td>0.0</td>\n",
              "      <td>0.0</td>\n",
              "      <td>0.333333</td>\n",
              "      <td>0.571429</td>\n",
              "      <td>0.508511</td>\n",
              "      <td>0.560109</td>\n",
              "      <td>0.570707</td>\n",
              "      <td>0.009373</td>\n",
              "      <td>0.440252</td>\n",
              "    </tr>\n",
              "    <tr>\n",
              "      <th>1124</th>\n",
              "      <td>0.428571</td>\n",
              "      <td>0.363636</td>\n",
              "      <td>0.538813</td>\n",
              "      <td>0.006379</td>\n",
              "      <td>0.5</td>\n",
              "      <td>0.0</td>\n",
              "      <td>0.0</td>\n",
              "      <td>0.333333</td>\n",
              "      <td>0.714286</td>\n",
              "      <td>0.753191</td>\n",
              "      <td>0.000000</td>\n",
              "      <td>0.707071</td>\n",
              "      <td>0.018416</td>\n",
              "      <td>0.487421</td>\n",
              "    </tr>\n",
              "    <tr>\n",
              "      <th>835</th>\n",
              "      <td>0.285714</td>\n",
              "      <td>0.363636</td>\n",
              "      <td>0.117504</td>\n",
              "      <td>0.003217</td>\n",
              "      <td>0.5</td>\n",
              "      <td>0.0</td>\n",
              "      <td>0.0</td>\n",
              "      <td>0.333333</td>\n",
              "      <td>0.285714</td>\n",
              "      <td>0.164255</td>\n",
              "      <td>0.000000</td>\n",
              "      <td>0.184343</td>\n",
              "      <td>0.013786</td>\n",
              "      <td>0.066038</td>\n",
              "    </tr>\n",
              "    <tr>\n",
              "      <th>1090</th>\n",
              "      <td>0.285714</td>\n",
              "      <td>0.363636</td>\n",
              "      <td>0.144597</td>\n",
              "      <td>0.004062</td>\n",
              "      <td>0.5</td>\n",
              "      <td>0.0</td>\n",
              "      <td>0.0</td>\n",
              "      <td>0.333333</td>\n",
              "      <td>0.428571</td>\n",
              "      <td>0.202128</td>\n",
              "      <td>0.000000</td>\n",
              "      <td>0.255051</td>\n",
              "      <td>0.014669</td>\n",
              "      <td>0.094340</td>\n",
              "    </tr>\n",
              "    <tr>\n",
              "      <th>529</th>\n",
              "      <td>0.285714</td>\n",
              "      <td>0.363636</td>\n",
              "      <td>0.304414</td>\n",
              "      <td>0.003940</td>\n",
              "      <td>0.5</td>\n",
              "      <td>0.0</td>\n",
              "      <td>0.5</td>\n",
              "      <td>0.333333</td>\n",
              "      <td>0.714286</td>\n",
              "      <td>0.425532</td>\n",
              "      <td>0.000000</td>\n",
              "      <td>0.333333</td>\n",
              "      <td>0.006024</td>\n",
              "      <td>0.811321</td>\n",
              "    </tr>\n",
              "  </tbody>\n",
              "</table>\n",
              "</div>"
            ],
            "text/plain": [
              "      bedrooms  bathrooms  sqft_living  ...  sqft_living15  sqft_lot15     price\n",
              "995   0.428571   0.545455     0.550989  ...       0.570707    0.009373  0.440252\n",
              "1124  0.428571   0.363636     0.538813  ...       0.707071    0.018416  0.487421\n",
              "835   0.285714   0.363636     0.117504  ...       0.184343    0.013786  0.066038\n",
              "1090  0.285714   0.363636     0.144597  ...       0.255051    0.014669  0.094340\n",
              "529   0.285714   0.363636     0.304414  ...       0.333333    0.006024  0.811321\n",
              "\n",
              "[5 rows x 14 columns]"
            ]
          },
          "metadata": {},
          "execution_count": 7
        }
      ]
    },
    {
      "cell_type": "markdown",
      "metadata": {
        "id": "AYPY5VqACJD7"
      },
      "source": [
        "### Train-Test (70-30 Split)"
      ]
    },
    {
      "cell_type": "code",
      "metadata": {
        "colab": {
          "base_uri": "https://localhost:8080/"
        },
        "id": "88RSDcDd-9Kb",
        "outputId": "efb71e05-0304-46d3-9cab-bfed15da527e"
      },
      "source": [
        "training_data = df.sample(frac=0.7, random_state=25) #Training data = 70%\n",
        "testing_data = df.drop(training_data.index) #Testing data = 30%\n",
        "\n",
        "print(\"Original data size:\", df.shape[0])\n",
        "print(f\"No. of training examples: {training_data.shape[0]}\")\n",
        "print(f\"No. of testing examples: {testing_data.shape[0]}\")"
      ],
      "execution_count": 8,
      "outputs": [
        {
          "output_type": "stream",
          "name": "stdout",
          "text": [
            "Original data size: 1126\n",
            "No. of training examples: 788\n",
            "No. of testing examples: 338\n"
          ]
        }
      ]
    },
    {
      "cell_type": "code",
      "metadata": {
        "colab": {
          "base_uri": "https://localhost:8080/"
        },
        "id": "GqSn5JW6COTr",
        "outputId": "1f100345-342d-4d2c-82dc-5e82ce80f856"
      },
      "source": [
        "X_train = np.array(training_data.iloc[:,:-1])\n",
        "X_test = np.array(testing_data.iloc[:,:-1])\n",
        "Y_train = np.array(training_data.iloc[:,-1])\n",
        "Y_test = np.array(testing_data.iloc[:,-1])\n",
        "X_train.shape"
      ],
      "execution_count": 9,
      "outputs": [
        {
          "output_type": "execute_result",
          "data": {
            "text/plain": [
              "(788, 13)"
            ]
          },
          "metadata": {},
          "execution_count": 9
        }
      ]
    },
    {
      "cell_type": "markdown",
      "metadata": {
        "id": "lfWrPjzEDcDq"
      },
      "source": [
        "# **Linear Regression Model - Gradient Descent (Convergence Criteria)**\n",
        "\n",
        "\n",
        "\n"
      ]
    },
    {
      "cell_type": "code",
      "metadata": {
        "id": "lVwrlBC0Fu_6"
      },
      "source": [
        "#Parameter Initialization\n",
        "m = Y_train.shape[0]\n",
        "def initialize_params(X, numberOfFeatures):\n",
        "  ones = np.ones((m,1)) #Bias\n",
        "  X_new = np.hstack((ones, X)) #Add the bias \n",
        "  thetha = np.zeros((numberOfFeatures+1, 1))\n",
        "  return X_new, thetha"
      ],
      "execution_count": 10,
      "outputs": []
    },
    {
      "cell_type": "code",
      "metadata": {
        "id": "A5mzQ2pLHcNc"
      },
      "source": [
        "X_train, thetha = initialize_params(X_train, 13)"
      ],
      "execution_count": 11,
      "outputs": []
    },
    {
      "cell_type": "code",
      "metadata": {
        "id": "ztL3W1a9HoYU"
      },
      "source": [
        "#Function to compute cost at each step of GD. \n",
        "def compute_cost(thetha, X, y):\n",
        "  J = np.sum((np.matmul(X, thetha)-y)**2) #Sum of squares of error using vectorization\n",
        "  J = J/2\n",
        "  return J"
      ],
      "execution_count": 12,
      "outputs": []
    },
    {
      "cell_type": "code",
      "metadata": {
        "id": "0oCg22F6phKE"
      },
      "source": [
        "#Gradient Descent Function - Using Number of iterations\n",
        "def GD(X, y, thetha, alpha): \n",
        "  pE = 100000 #Error from previous iteration. \n",
        "  E = 10000 #Error from current iteration. \n",
        "  while abs(E-pE)>0.001:\n",
        "    pE = E \n",
        "    thetha = thetha - ((alpha/m)*np.matmul(X.T, (np.matmul(X,thetha))-y))\n",
        "    E = compute_cost(thetha, X, y) #Current iteration's error\n",
        "  return E\n",
        "    "
      ],
      "execution_count": 13,
      "outputs": []
    },
    {
      "cell_type": "code",
      "metadata": {
        "id": "DoAld0vTH65m"
      },
      "source": [
        "#Gradient Descent Function - Using Number of iterations\n",
        "#def gradientDescent (X, y, thetha, alpha, XT, YT):\n",
        "def gradientDescent (X, y, thetha, alpha):\n",
        "  n_iters = 50\n",
        "  for i in range(n_iters):\n",
        "    thetha = thetha - ((alpha/m)*np.matmul(X.T, (np.matmul(X,thetha))-y))\n",
        "  J_history = compute_cost(thetha, X, y) #Error\n",
        "  return J_history\n"
      ],
      "execution_count": 14,
      "outputs": []
    },
    {
      "cell_type": "code",
      "metadata": {
        "colab": {
          "base_uri": "https://localhost:8080/"
        },
        "id": "kouIpqdjJ2B7",
        "outputId": "c54445e0-c8d2-46ab-f1a9-efd79fd74d18"
      },
      "source": [
        "J_history = GD(X_train, Y_train, thetha, 0.1) #Learning rate = 0.1\n",
        "J_history"
      ],
      "execution_count": 15,
      "outputs": [
        {
          "output_type": "execute_result",
          "data": {
            "text/plain": [
              "0.8857698470793779"
            ]
          },
          "metadata": {},
          "execution_count": 15
        }
      ]
    },
    {
      "cell_type": "markdown",
      "metadata": {
        "id": "Oe3OTBhwNO6p"
      },
      "source": [
        "# **Forward Greedy**"
      ]
    },
    {
      "cell_type": "code",
      "metadata": {
        "colab": {
          "base_uri": "https://localhost:8080/"
        },
        "id": "qnAygbviMyGV",
        "outputId": "f93de4b2-8557-4e4f-c4d9-e471d2f2e4a5"
      },
      "source": [
        "import matplotlib.pyplot as plt\n",
        "X_train.shape #First feature is bias - only 1s. "
      ],
      "execution_count": 16,
      "outputs": [
        {
          "output_type": "execute_result",
          "data": {
            "text/plain": [
              "(788, 14)"
            ]
          },
          "metadata": {},
          "execution_count": 16
        }
      ]
    },
    {
      "cell_type": "code",
      "metadata": {
        "colab": {
          "base_uri": "https://localhost:8080/"
        },
        "id": "TnJoEx7kPp6F",
        "outputId": "f6b1fc73-5fdb-4604-fdc1-1b90408084e9"
      },
      "source": [
        "modelRMSE = [] #Stores RMSE value of best n-feature model. \n",
        "featuresSoFar = []\n",
        "featuresRemaining = [1, 2, 3, 4, 5, 6, 7, 8, 9, 10, 11, 12, 13]\n",
        "J = [100] #List of size 1 - Since integers cant be concatenated with lists directly.  \n",
        "\n",
        "for i in range(1,14): #Exclude bias feature. \n",
        "  minRMSE = float(\"inf\")\n",
        "  featureChosen = featuresRemaining[0] #initialization\n",
        "  for j in featuresRemaining:\n",
        "    J[0] = j\n",
        "    X_train_iter, thetha = initialize_params(X_train[:, featuresSoFar+J], i) \n",
        "    #temp = gradientDescent(X_train_iter, Y_train, thetha, 0.1)\n",
        "    temp = GD(X_train_iter, Y_train, thetha, 0.1)\n",
        "    temp = np.sqrt(temp/788) #RMSE from SSE \n",
        "    if temp<minRMSE:\n",
        "      minRMSE = temp\n",
        "      featureChosen = j\n",
        "  featuresSoFar.append(featureChosen)\n",
        "  modelRMSE.append(minRMSE)\n",
        "  featuresRemaining.remove(featureChosen)\n",
        "\n",
        "  #Print Results\n",
        "  print(\"Number of features:\", i, \"Training RMSE Value:\", minRMSE)"
      ],
      "execution_count": 17,
      "outputs": [
        {
          "output_type": "stream",
          "name": "stdout",
          "text": [
            "Number of features: 1 Training RMSE Value: 0.0023537454554710424\n",
            "Number of features: 2 Training RMSE Value: 0.0032339588778994535\n",
            "Number of features: 3 Training RMSE Value: 0.010021474707442047\n",
            "Number of features: 4 Training RMSE Value: 0.011413323782590929\n",
            "Number of features: 5 Training RMSE Value: 0.014514578806115374\n",
            "Number of features: 6 Training RMSE Value: 0.015432001909285493\n",
            "Number of features: 7 Training RMSE Value: 0.016332854499717647\n",
            "Number of features: 8 Training RMSE Value: 0.016759164246494852\n",
            "Number of features: 9 Training RMSE Value: 0.014918373847895697\n",
            "Number of features: 10 Training RMSE Value: 0.01867030291432725\n",
            "Number of features: 11 Training RMSE Value: 0.023130155767280232\n",
            "Number of features: 12 Training RMSE Value: 0.029009255894417375\n",
            "Number of features: 13 Training RMSE Value: 0.0335272040289555\n"
          ]
        }
      ]
    },
    {
      "cell_type": "markdown",
      "metadata": {
        "id": "3fp90CWxlF_w"
      },
      "source": [
        "# **Backward Greedy**"
      ]
    },
    {
      "cell_type": "code",
      "metadata": {
        "colab": {
          "base_uri": "https://localhost:8080/"
        },
        "id": "SXCWjmDcnz8P",
        "outputId": "15a18817-7464-4545-e489-2f71e1bcb44c"
      },
      "source": [
        "modelRMSE = [] #Stores RMSE value of best n-feature model. \n",
        "featuresSoFar = [1, 2, 3, 4, 5, 6, 7, 8, 9, 10, 11, 12, 13]\n",
        "J = [100] #List of size 1 - Since integers cant be concatenated with lists directly.  \n",
        "\n",
        "for i in range(13, 0, -1): #Exclude bias feature. \n",
        "  minRMSE = float(\"inf\")\n",
        "  featureChosen = featuresSoFar[0] #initialization\n",
        "  for j in featuresSoFar:\n",
        "    tempArr = []\n",
        "    for p in range(len(featuresSoFar)):\n",
        "      if j!=featuresSoFar[p]:\n",
        "        tempArr.append(featuresSoFar[p])\n",
        "\n",
        "    X_train_iter, thetha = initialize_params(X_train[:, tempArr], i-1) #If prev model had i features, next will have i-1 features. \n",
        "    #temp = gradientDescent(X_train_iter, Y_train, thetha, 0.1)\n",
        "    temp = GD(X_train_iter, Y_train, thetha, 0.1)\n",
        "    temp = np.sqrt(temp/788) #RMSE from SSE \n",
        "    if temp<minRMSE:\n",
        "      minRMSE = temp\n",
        "      featureChosen = j\n",
        "  featuresSoFar.remove(featureChosen)\n",
        "  modelRMSE.append(minRMSE)\n",
        "\n",
        "  #Print Results\n",
        "  print(\"Number of features:\", i-1,  \"Training RMSE Value:\", minRMSE)"
      ],
      "execution_count": 18,
      "outputs": [
        {
          "output_type": "stream",
          "name": "stdout",
          "text": [
            "Number of features: 12 Training RMSE Value: 0.029009255894417354\n",
            "Number of features: 11 Training RMSE Value: 0.023130155767280235\n",
            "Number of features: 10 Training RMSE Value: 0.01867030291432726\n",
            "Number of features: 9 Training RMSE Value: 0.014918373847895726\n",
            "Number of features: 8 Training RMSE Value: 0.014651376557396133\n",
            "Number of features: 7 Training RMSE Value: 0.013890145797992812\n",
            "Number of features: 6 Training RMSE Value: 0.01317656594599393\n",
            "Number of features: 5 Training RMSE Value: 0.013114229015425348\n",
            "Number of features: 4 Training RMSE Value: 0.013071536466686504\n",
            "Number of features: 3 Training RMSE Value: 0.013046757380294302\n",
            "Number of features: 2 Training RMSE Value: 0.015355388226472408\n",
            "Number of features: 1 Training RMSE Value: 0.015348216930709611\n",
            "Number of features: 0 Training RMSE Value: 0.0022288947780511634\n"
          ]
        }
      ]
    },
    {
      "cell_type": "markdown",
      "metadata": {
        "id": "Cp5JxScUM2Td"
      },
      "source": [
        "# **Testing RMSE Calculations (Iterations Method)**"
      ]
    },
    {
      "cell_type": "code",
      "metadata": {
        "id": "dtwyIKsBIqDl"
      },
      "source": [
        "#Parameter Initialization\n",
        "p = Y_test.shape[0]\n",
        "def initialize_test_params(X, numberOfFeatures):\n",
        "  ones = np.ones((p,1)) #Bias\n",
        "  X_new = np.hstack((ones, X)) #Add the bias \n",
        "  thetha = np.zeros((numberOfFeatures+1, 1))\n",
        "  return X_new, thetha"
      ],
      "execution_count": 19,
      "outputs": []
    },
    {
      "cell_type": "code",
      "metadata": {
        "colab": {
          "base_uri": "https://localhost:8080/"
        },
        "id": "07eRC0sZRtFv",
        "outputId": "a47af727-1c26-4f6b-d9a9-aa6c977fb4c4"
      },
      "source": [
        "X_test.shape"
      ],
      "execution_count": 20,
      "outputs": [
        {
          "output_type": "execute_result",
          "data": {
            "text/plain": [
              "(338, 13)"
            ]
          },
          "metadata": {},
          "execution_count": 20
        }
      ]
    },
    {
      "cell_type": "code",
      "metadata": {
        "colab": {
          "base_uri": "https://localhost:8080/"
        },
        "id": "opFFkuncNLRR",
        "outputId": "9d2117e1-7a06-45ab-d790-bd875952f2ec"
      },
      "source": [
        "X_test, thetha1 = initialize_test_params(X_test, 13)\n",
        "X_test.shape"
      ],
      "execution_count": 21,
      "outputs": [
        {
          "output_type": "execute_result",
          "data": {
            "text/plain": [
              "(338, 14)"
            ]
          },
          "metadata": {},
          "execution_count": 21
        }
      ]
    },
    {
      "cell_type": "code",
      "metadata": {
        "id": "ganxyB97NblX"
      },
      "source": [
        "def gradientDescent (X, y, thetha, alpha):\n",
        "  n_iters = 200\n",
        "  for i in range(n_iters):\n",
        "    thetha = thetha - ((alpha/m)*np.matmul(X.T, (np.matmul(X,thetha))-y))\n",
        "  TestError = compute_cost(thetha, X, y) #Error\n",
        "  return TestError\n"
      ],
      "execution_count": 22,
      "outputs": []
    },
    {
      "cell_type": "code",
      "metadata": {
        "colab": {
          "base_uri": "https://localhost:8080/"
        },
        "id": "YkvJ2hA5N94H",
        "outputId": "4a87ac0e-6cf8-4c5c-e9a6-53e776045fb9"
      },
      "source": [
        "t = gradientDescent(X_test, Y_test, thetha1, 0.1) #Learning rate = 0.1\n",
        "t"
      ],
      "execution_count": 23,
      "outputs": [
        {
          "output_type": "execute_result",
          "data": {
            "text/plain": [
              "92.23485547272203"
            ]
          },
          "metadata": {},
          "execution_count": 23
        }
      ]
    },
    {
      "cell_type": "code",
      "metadata": {
        "colab": {
          "base_uri": "https://localhost:8080/"
        },
        "id": "aSR7H69hOVEL",
        "outputId": "2f5a9044-6626-4466-9852-44e108f9ee6e"
      },
      "source": [
        "#Forward Greedy\n",
        "modelTestRMSE = [] #Stores RMSE value of best n-feature model. \n",
        "featuresSoFar = []\n",
        "featuresRemaining = [1, 2, 3, 4, 5, 6, 7, 8, 9, 10, 11, 12, 13]\n",
        "J = [100] #List of size 1 - Since integers cant be concatenated with lists directly.  \n",
        "\n",
        "for i in range(1,14): #Exclude bias feature. \n",
        "  minRMSE = float(\"inf\")\n",
        "  featureChosen = featuresRemaining[0] #initialization\n",
        "  for j in featuresRemaining:\n",
        "    J[0] = j\n",
        "    X_test_iter, thetha = initialize_test_params(X_test[:, featuresSoFar+J], i) \n",
        "    temp = gradientDescent(X_test_iter, Y_test, thetha, 0.1)\n",
        "    #temp = GD(X_train_iter, Y_train, thetha, 0.1)\n",
        "    temp = np.sqrt(temp/788) #RMSE from SSE \n",
        "    if temp<minRMSE:\n",
        "      minRMSE = temp\n",
        "      featureChosen = j\n",
        "  featuresSoFar.append(featureChosen)\n",
        "  modelTestRMSE.append(minRMSE)\n",
        "  featuresRemaining.remove(featureChosen)\n",
        "\n",
        "  #Print Results\n",
        "  print(\"Number of features:\", i, \"Best features chosen for the model:\", featuresSoFar, \"Testing RMSE Value:\", minRMSE)"
      ],
      "execution_count": 24,
      "outputs": [
        {
          "output_type": "stream",
          "name": "stdout",
          "text": [
            "Number of features: 1 Best features chosen for the model: [9] Testing RMSE Value: 0.24552178654835394\n",
            "Number of features: 2 Best features chosen for the model: [9, 1] Testing RMSE Value: 0.2326631630796311\n",
            "Number of features: 3 Best features chosen for the model: [9, 1, 13] Testing RMSE Value: 0.23260051864950118\n",
            "Number of features: 4 Best features chosen for the model: [9, 1, 13, 6] Testing RMSE Value: 0.2326005186495012\n",
            "Number of features: 5 Best features chosen for the model: [9, 1, 13, 6, 4] Testing RMSE Value: 0.23262246266948872\n",
            "Number of features: 6 Best features chosen for the model: [9, 1, 13, 6, 4, 7] Testing RMSE Value: 0.233265670234442\n",
            "Number of features: 7 Best features chosen for the model: [9, 1, 13, 6, 4, 7, 8] Testing RMSE Value: 0.23613737900960288\n",
            "Number of features: 8 Best features chosen for the model: [9, 1, 13, 6, 4, 7, 8, 11] Testing RMSE Value: 0.24780702880995392\n",
            "Number of features: 9 Best features chosen for the model: [9, 1, 13, 6, 4, 7, 8, 11, 2] Testing RMSE Value: 0.26098366858309385\n",
            "Number of features: 10 Best features chosen for the model: [9, 1, 13, 6, 4, 7, 8, 11, 2, 12] Testing RMSE Value: 0.27979187791357524\n",
            "Number of features: 11 Best features chosen for the model: [9, 1, 13, 6, 4, 7, 8, 11, 2, 12, 3] Testing RMSE Value: 0.2999351965123864\n",
            "Number of features: 12 Best features chosen for the model: [9, 1, 13, 6, 4, 7, 8, 11, 2, 12, 3, 5] Testing RMSE Value: 0.3195213596384551\n",
            "Number of features: 13 Best features chosen for the model: [9, 1, 13, 6, 4, 7, 8, 11, 2, 12, 3, 5, 10] Testing RMSE Value: 0.34212469799115\n"
          ]
        }
      ]
    },
    {
      "cell_type": "code",
      "metadata": {
        "colab": {
          "base_uri": "https://localhost:8080/",
          "height": 296
        },
        "id": "qcVeceorRN-d",
        "outputId": "3dec3ee7-d661-4420-d3c2-55e4fbfa33de"
      },
      "source": [
        "plt.plot(np.arange(1, 14), modelTestRMSE)\n",
        "plt.xlabel (\"Number of features in model\")\n",
        "plt.ylabel (\"Test RMSE Value\")\n",
        "print(\"4-features models is the best. The optimal features are Grade, Condition, Waterfront, SqftLot\")"
      ],
      "execution_count": 25,
      "outputs": [
        {
          "output_type": "stream",
          "name": "stdout",
          "text": [
            "4-features models is the best. The optimal features are Grade, Condition, Waterfront, SqftLot\n"
          ]
        },
        {
          "output_type": "display_data",
          "data": {
            "image/png": "[encoded data removed]",
            "text/plain": [
              "<Figure size 432x288 with 1 Axes>"
            ]
          },
          "metadata": {
            "needs_background": "light"
          }
        }
      ]
    },
    {
      "cell_type": "code",
      "metadata": {
        "id": "L8fpX8W8URRH"
      },
      "source": [
        "#Parameter Initialization\n",
        "#p = X_test.shape[0]\n",
        "def initialize_test_params(X, numberOfFeatures):\n",
        "  ones = np.ones((338,1)) #Bias\n",
        "  X_new = np.hstack((ones, X)) #Add the bias \n",
        "  thetha = np.zeros((numberOfFeatures+1, 1))\n",
        "  return X_new, thetha"
      ],
      "execution_count": 26,
      "outputs": []
    },
    {
      "cell_type": "code",
      "metadata": {
        "colab": {
          "base_uri": "https://localhost:8080/"
        },
        "id": "WOJofYNwSM0w",
        "outputId": "b76d7a62-9492-4e46-9a75-0f65f96a3b8d"
      },
      "source": [
        "#Backward Greedy\n",
        "modelRMSE = [] #Stores RMSE value of best n-feature model. \n",
        "featuresSoFar = [1, 2, 3, 4, 5, 6, 7, 8, 9, 10, 11, 12, 13]\n",
        "J = [100] #List of size 1 - Since integers cant be concatenated with lists directly.  \n",
        "\n",
        "for i in range(13, 0, -1): #Exclude bias feature. \n",
        "  minRMSE = float(\"inf\")\n",
        "  featureChosen = featuresSoFar[0] #initialization\n",
        "  for j in featuresSoFar:\n",
        "    tempArr = []\n",
        "    for p in range(len(featuresSoFar)):\n",
        "      if j!=featuresSoFar[p]:\n",
        "        tempArr.append(featuresSoFar[p])\n",
        "\n",
        "    X_test_iter, thetha = initialize_test_params(X_test[:, tempArr], i-1) #If prev model had i features, next will have i-1 features. \n",
        "    temp = gradientDescent(X_test_iter, Y_test, thetha, 0.1)\n",
        "    #temp = GD(X_train_iter, Y_train, thetha, 0.1)\n",
        "    temp = np.sqrt(temp/788) #RMSE from SSE \n",
        "    if temp<minRMSE:\n",
        "      minRMSE = temp\n",
        "      featureChosen = j\n",
        "  featuresSoFar.remove(featureChosen)\n",
        "  modelRMSE.append(minRMSE)\n",
        "\n",
        "  #Print Results\n",
        "  print(\"Number of features:\", i-1, \"Best features chosen for the model:\", featuresSoFar, \"Feature Removed:\", featureChosen, \"Testing RMSE Value:\", minRMSE)"
      ],
      "execution_count": 27,
      "outputs": [
        {
          "output_type": "stream",
          "name": "stdout",
          "text": [
            "Number of features: 12 Best features chosen for the model: [1, 2, 3, 4, 5, 6, 7, 8, 9, 11, 12, 13] Feature Removed: 10 Testing RMSE Value: 0.3195213596384551\n",
            "Number of features: 11 Best features chosen for the model: [1, 2, 3, 4, 5, 6, 7, 8, 11, 12, 13] Feature Removed: 9 Testing RMSE Value: 0.2971242594918011\n",
            "Number of features: 10 Best features chosen for the model: [1, 2, 4, 5, 6, 7, 8, 11, 12, 13] Feature Removed: 3 Testing RMSE Value: 0.27776935640096856\n",
            "Number of features: 9 Best features chosen for the model: [1, 4, 5, 6, 7, 8, 11, 12, 13] Feature Removed: 2 Testing RMSE Value: 0.25968666128841994\n",
            "Number of features: 8 Best features chosen for the model: [1, 4, 5, 6, 7, 8, 11, 13] Feature Removed: 12 Testing RMSE Value: 0.25266298527149134\n",
            "Number of features: 7 Best features chosen for the model: [1, 4, 5, 6, 7, 8, 13] Feature Removed: 11 Testing RMSE Value: 0.2476229813267331\n",
            "Number of features: 6 Best features chosen for the model: [1, 4, 6, 7, 8, 13] Feature Removed: 5 Testing RMSE Value: 0.24754488729076338\n",
            "Number of features: 5 Best features chosen for the model: [1, 4, 6, 7, 13] Feature Removed: 8 Testing RMSE Value: 0.24691907599559926\n",
            "Number of features: 4 Best features chosen for the model: [1, 4, 7, 13] Feature Removed: 6 Testing RMSE Value: 0.24691907599559926\n",
            "Number of features: 3 Best features chosen for the model: [1, 7, 13] Feature Removed: 4 Testing RMSE Value: 0.2469439906068624\n",
            "Number of features: 2 Best features chosen for the model: [1, 7] Feature Removed: 13 Testing RMSE Value: 0.24726627225304512\n",
            "Number of features: 1 Best features chosen for the model: [1] Feature Removed: 7 Testing RMSE Value: 0.24850493607963095\n",
            "Number of features: 0 Best features chosen for the model: [] Feature Removed: 1 Testing RMSE Value: 0.28905106999254954\n"
          ]
        }
      ]
    },
    {
      "cell_type": "code",
      "metadata": {
        "colab": {
          "base_uri": "https://localhost:8080/",
          "height": 296
        },
        "id": "UGR3APn-T0Hb",
        "outputId": "623759fd-a2ee-4544-d2a3-87370f02ba63"
      },
      "source": [
        "plt.plot(np.arange(1, 14), modelRMSE)\n",
        "plt.xlabel (\"Number of features removed\")\n",
        "plt.ylabel (\"Test RMSE Value\")\n",
        "print(\"6-features models is the best. The optimal features are: Bedrooms, SqftLot, View, WaterFront, Condition, SqFtLot15\")"
      ],
      "execution_count": 29,
      "outputs": [
        {
          "output_type": "stream",
          "name": "stdout",
          "text": [
            "6-features models is the best. The optimal features are: Bedrooms, SqftLot, View, WaterFront, Condition, SqFtLot15\n"
          ]
        },
        {
          "output_type": "display_data",
          "data": {
            "image/png": "[encoded data removed]",
            "text/plain": [
              "<Figure size 432x288 with 1 Axes>"
            ]
          },
          "metadata": {
            "needs_background": "light"
          }
        }
      ]
    },
    {
      "cell_type": "markdown",
      "metadata": {
        "id": "wSW5GRRURkPC"
      },
      "source": [
        "# **Conclusion:** \n",
        "A total of 6 models have been built - Based on 1)Forward Greedy, 2)Backward Greedy, 3)All Features (Each model was built once using number of iterations as the stopping criteria and once using convergence as the stopping criteria). \n",
        "The subset of features have been chosen based on the Testing RMSE values. Using forward greedy, an optimal of 4 features (Grade, Condition, Waterfront, SqftLot) was obtained and using backward greedy, an optimal of 6 features (Bedrooms, SqftLot, View, WaterFront, Condition, SqFtLot15) has been obtained. A U-shaped graph in both the cases indicates that testing error is high when very features or very high number of features are chosen (due to over-fitting and redundancy/correlation respectively). \n",
        "The testing error is also high when a model is built withpout performing any feature selection/pre-processing technique. In fact, an error of infinity can be obtained if Nan values are not removed before applying the model. \n"
      ]
    },
    {
      "cell_type": "code",
      "metadata": {
        "id": "yBVtu2wsRm3e"
      },
      "source": [
        ""
      ],
      "execution_count": 28,
      "outputs": []
    }
  ]
}